{
  "nbformat": 4,
  "nbformat_minor": 0,
  "metadata": {
    "colab": {
      "provenance": [],
      "authorship_tag": "ABX9TyOdTqpjz3qXXED6X4hAr15t",
      "include_colab_link": true
    },
    "kernelspec": {
      "name": "python3",
      "display_name": "Python 3"
    },
    "language_info": {
      "name": "python"
    }
  },
  "cells": [
    {
      "cell_type": "markdown",
      "metadata": {
        "id": "view-in-github",
        "colab_type": "text"
      },
      "source": [
        "<a href=\"https://colab.research.google.com/github/KotaPushkara/IRS_Lab/blob/main/Tokenization_lab3.ipynb\" target=\"_parent\"><img src=\"https://colab.research.google.com/assets/colab-badge.svg\" alt=\"Open In Colab\"/></a>"
      ]
    },
    {
      "cell_type": "code",
      "execution_count": 2,
      "metadata": {
        "colab": {
          "base_uri": "https://localhost:8080/"
        },
        "id": "cOgCYdPjbVQz",
        "outputId": "630cdaab-49fb-4f00-f8ad-2a45491bb06f"
      },
      "outputs": [
        {
          "output_type": "stream",
          "name": "stdout",
          "text": [
            "Word Tokens: ['Hello', '!', 'My', 'name', 'is', 'Pushkara', 'I', 'Love', 'to', 'do', 'dance', '.']\n",
            "Sentence Tokens: ['Hello!', 'My name is Pushkara I Love to do dance.']\n",
            "Character Tokens: ['H', 'e', 'l', 'l', 'o', '!', ' ', 'M', 'y', ' ', 'n', 'a', 'm', 'e', ' ', 'i', 's', ' ', 'P', 'u', 's', 'h', 'k', 'a', 'r', 'a', ' ', 'I', ' ', 'L', 'o', 'v', 'e', ' ', 't', 'o', ' ', 'd', 'o', ' ', 'd', 'a', 'n', 'c', 'e', '.']\n"
          ]
        },
        {
          "output_type": "stream",
          "name": "stderr",
          "text": [
            "[nltk_data] Downloading package punkt_tab to /root/nltk_data...\n",
            "[nltk_data]   Package punkt_tab is already up-to-date!\n"
          ]
        }
      ],
      "source": [
        "import nltk\n",
        "from nltk.tokenize import word_tokenize, sent_tokenize, RegexpTokenizer\n",
        "\n",
        "# Download necessary data\n",
        "nltk.download('punkt_tab')\n",
        "\n",
        "def tokenize_words(text):\n",
        "    return word_tokenize(text)\n",
        "\n",
        "def tokenize_sentences(text):\n",
        "    return sent_tokenize(text)\n",
        "\n",
        "def tokenize_characters(text):\n",
        "    return list(text)\n",
        "\n",
        "# Example text\n",
        "text = \"Hello! My name is Pushkara I Love to do dance.\"\n",
        "\n",
        "# Tokenization\n",
        "word_tokens = tokenize_words(text)\n",
        "sentence_tokens = tokenize_sentences(text)\n",
        "character_tokens = tokenize_characters(text)\n",
        "\n",
        "# Output results\n",
        "print(\"Word Tokens:\", word_tokens)\n",
        "print(\"Sentence Tokens:\", sentence_tokens)\n",
        "print(\"Character Tokens:\", character_tokens)\n",
        "\n",
        "\n"
      ]
    },
    {
      "cell_type": "code",
      "source": [
        "corpus = [\n",
        "    \"Transform text into numbers with Bag-of-Words.\"\n",
        "\"Every word counts in this simple yet powerful model.\"\n",
        "\"Words become data, ready for analysis.\"\n",
        "\"Bag-of-Words simplifies text for machines.\"\n",
        "\"From text to insights, one word at a time.\"\n",
        "]"
      ],
      "metadata": {
        "id": "QtaoOzNwbs5l"
      },
      "execution_count": 3,
      "outputs": []
    },
    {
      "cell_type": "code",
      "source": [
        "from sklearn.feature_extraction.text import CountVectorizer\n",
        "\n",
        "# Initialize CountVectorizer\n",
        "vectorizer = CountVectorizer()\n",
        "\n",
        "# Transform the corpus into a term-document matrix\n",
        "X = vectorizer.fit_transform(corpus)\n",
        "\n",
        "# View the feature names (vocabulary)\n",
        "print(\"Feature Names:\", vectorizer.get_feature_names_out())\n",
        "\n",
        "# Convert the sparse matrix into a dense representation\n",
        "term_doc_matrix = X.toarray()\n",
        "print(\"Term-Document Matrix:\\n\", term_doc_matrix)"
      ],
      "metadata": {
        "colab": {
          "base_uri": "https://localhost:8080/"
        },
        "id": "YSXxfgO8byFQ",
        "outputId": "168786a6-e630-4395-ba5b-37a84874b279"
      },
      "execution_count": 4,
      "outputs": [
        {
          "output_type": "stream",
          "name": "stdout",
          "text": [
            "Feature Names: ['analysis' 'at' 'bag' 'become' 'counts' 'data' 'every' 'for' 'from' 'in'\n",
            " 'insights' 'into' 'machines' 'model' 'numbers' 'of' 'one' 'powerful'\n",
            " 'ready' 'simple' 'simplifies' 'text' 'this' 'time' 'to' 'transform'\n",
            " 'with' 'word' 'words' 'yet']\n",
            "Term-Document Matrix:\n",
            " [[1 1 2 1 1 1 1 2 1 1 1 1 1 1 1 2 1 1 1 1 1 3 1 1 1 1 1 2 3 1]]\n"
          ]
        }
      ]
    },
    {
      "cell_type": "code",
      "source": [
        "import pandas as pd\n",
        "\n",
        "# Create a DataFrame for better visualization\n",
        "df = pd.DataFrame(term_doc_matrix, columns=vectorizer.get_feature_names_out())\n",
        "print(\"Term-Document Matrix as DataFrame:\\n\", df)"
      ],
      "metadata": {
        "colab": {
          "base_uri": "https://localhost:8080/"
        },
        "id": "dWELQldfb3ZZ",
        "outputId": "02d9af47-09c5-48a7-f1d3-af7bd75186fb"
      },
      "execution_count": 5,
      "outputs": [
        {
          "output_type": "stream",
          "name": "stdout",
          "text": [
            "Term-Document Matrix as DataFrame:\n",
            "    analysis  at  bag  become  counts  data  every  for  from  in  ...  \\\n",
            "0         1   1    2       1       1     1      1    2     1   1  ...   \n",
            "\n",
            "   simplifies  text  this  time  to  transform  with  word  words  yet  \n",
            "0           1     3     1     1   1          1     1     2      3    1  \n",
            "\n",
            "[1 rows x 30 columns]\n"
          ]
        }
      ]
    },
    {
      "cell_type": "code",
      "source": [
        "import pandas as pd\n",
        "\n",
        "# Create a DataFrame for better visualization\n",
        "df = pd.DataFrame(term_doc_matrix, columns=vectorizer.get_feature_names_out())\n",
        "print(\"Term-Document Matrix as DataFrame:\\n\", df)"
      ],
      "metadata": {
        "colab": {
          "base_uri": "https://localhost:8080/"
        },
        "id": "EqfKx4V3b80K",
        "outputId": "35bb8f85-f0fc-4afc-c41d-a6dc64a0feaf"
      },
      "execution_count": 6,
      "outputs": [
        {
          "output_type": "stream",
          "name": "stdout",
          "text": [
            "Term-Document Matrix as DataFrame:\n",
            "    analysis  at  bag  become  counts  data  every  for  from  in  ...  \\\n",
            "0         1   1    2       1       1     1      1    2     1   1  ...   \n",
            "\n",
            "   simplifies  text  this  time  to  transform  with  word  words  yet  \n",
            "0           1     3     1     1   1          1     1     2      3    1  \n",
            "\n",
            "[1 rows x 30 columns]\n"
          ]
        }
      ]
    },
    {
      "cell_type": "code",
      "source": [
        "import seaborn as sns\n",
        "import matplotlib.pyplot as plt\n",
        "\n",
        "# Visualize using a heatmap\n",
        "plt.figure(figsize=(10, 6))\n",
        "sns.heatmap(df, annot=True, cmap=\"YlGnBu\", cbar=False, linewidths=0.5)\n",
        "plt.title(\"Term-Document Matrix Heatmap\")\n",
        "plt.xlabel(\"Terms\")\n",
        "plt.ylabel(\"Documents\")\n",
        "plt.show()"
      ],
      "metadata": {
        "colab": {
          "base_uri": "https://localhost:8080/",
          "height": 618
        },
        "id": "TN53gJWtcDXE",
        "outputId": "f09ecff2-791d-4eb5-d227-74891c26d2d1"
      },
      "execution_count": 7,
      "outputs": [
        {
          "output_type": "display_data",
          "data": {
            "text/plain": [
              "<Figure size 1000x600 with 1 Axes>"
            ],
            "image/png": "[encoded data removed]"
          },
          "metadata": {}
        }
      ]
    },
    {
      "cell_type": "code",
      "source": [
        "from nltk.tokenize import word_tokenize\n",
        "from collections import Counter\n",
        "\n",
        "# Tokenize and count words in each document\n",
        "tokenized_corpus = [word_tokenize(doc.lower()) for doc in corpus]\n",
        "word_counts = [Counter(doc) for doc in tokenized_corpus]\n",
        "\n",
        "# Combine all counts to create a vocabulary\n",
        "vocabulary = set(word for doc in tokenized_corpus for word in doc)\n",
        "\n",
        "# Generate the term-document matrix manually\n",
        "term_doc_matrix_nltk = [[doc.get(word, 0) for word in vocabulary] for doc in word_counts]\n",
        "print(\"Term-Document Matrix (NLTK):\\n\", term_doc_matrix_nltk)"
      ],
      "metadata": {
        "colab": {
          "base_uri": "https://localhost:8080/"
        },
        "id": "9o12VipWcHGB",
        "outputId": "a2fdfd29-2568-4dc0-f324-0129039584ae"
      },
      "execution_count": 8,
      "outputs": [
        {
          "output_type": "stream",
          "name": "stdout",
          "text": [
            "Term-Document Matrix (NLTK):\n",
            " [[1, 1, 1, 1, 1, 1, 1, 1, 1, 1, 1, 1, 1, 1, 1, 1, 1, 1, 1, 1, 1, 1, 1, 1, 1, 2, 2, 2, 3]]\n"
          ]
        }
      ]
    }
  ]
}