{
  "nbformat": 4,
  "nbformat_minor": 0,
  "metadata": {
    "colab": {
      "provenance": [],
      "authorship_tag": "ABX9TyMMdDfriQ6UhiTvonPikXFi",
      "include_colab_link": true
    },
    "kernelspec": {
      "name": "python3",
      "display_name": "Python 3"
    },
    "language_info": {
      "name": "python"
    }
  },
  "cells": [
    {
      "cell_type": "markdown",
      "metadata": {
        "id": "view-in-github",
        "colab_type": "text"
      },
      "source": [
        "<a href=\"https://colab.research.google.com/github/KotaPushkara/IRS_Lab/blob/main/2203A51774_B_02_Lab_1.ipynb\" target=\"_parent\"><img src=\"https://colab.research.google.com/assets/colab-badge.svg\" alt=\"Open In Colab\"/></a>"
      ]
    },
    {
      "cell_type": "markdown",
      "source": [
        "Lowercasing text\n"
      ],
      "metadata": {
        "id": "Khpmzl78EAJE"
      }
    },
    {
      "cell_type": "code",
      "source": [
        "def lowercase_text(text):\n",
        "   return text.lower()\n",
        "text = ' PUSHKARA AND DEEPU .\\nARE  pursuing  post-graduation from SR UNIVERSITY.'\n",
        "print(lowercase_text(text))"
      ],
      "metadata": {
        "colab": {
          "base_uri": "https://localhost:8080/"
        },
        "id": "79GdLmPwEFs5",
        "outputId": "d61de0be-e5a4-4593-a434-491b91976379"
      },
      "execution_count": 12,
      "outputs": [
        {
          "output_type": "stream",
          "name": "stdout",
          "text": [
            " pushkara and deepu .\n",
            "are  pursuing  post-graduation from sr university.\n"
          ]
        }
      ]
    },
    {
      "cell_type": "markdown",
      "source": [
        " Removing Punctuations"
      ],
      "metadata": {
        "id": "9CTo6AddEgWI"
      }
    },
    {
      "cell_type": "code",
      "source": [
        "import string\n",
        "PUNCT_TO_REMOVE = string.punctuation\n",
        "def remove_punctuation(text):\n",
        " return ' '.join(text.translate(str.maketrans('', '', PUNCT_TO_REMOVE)).split())\n",
        "text = \"Actually I have a lot of punctuations marks!!.@@@@@ all special characters will be removed *&&&\" ;\n",
        "print(remove_punctuation(text))"
      ],
      "metadata": {
        "colab": {
          "base_uri": "https://localhost:8080/"
        },
        "id": "FASQuoiHGHyc",
        "outputId": "4ab6ad12-ce76-468c-e557-3068a69b7ecd"
      },
      "execution_count": 15,
      "outputs": [
        {
          "output_type": "stream",
          "name": "stdout",
          "text": [
            "Actually I have a lot of punctuations marks all special characters will be removed\n"
          ]
        }
      ]
    },
    {
      "cell_type": "markdown",
      "source": [
        "Removing Stopwords"
      ],
      "metadata": {
        "id": "VBcUGsB5GPVx"
      }
    },
    {
      "cell_type": "code",
      "source": [
        "import nltk\n",
        "nltk.download('stopwords')\n",
        "from nltk.corpus import stopwords\n",
        "stoplist = stopwords.words('english')\n",
        "text = '''\n",
        "The pretty women in the world is my mom.\n",
        "'''\n",
        "print(\"\\nOriginal string:\")\n",
        "print(text)\n",
        "clean_word_list = [word for word in text.split() if word not in stoplist]\n",
        "print(\"\\nAfter removing stop words from the said text:\")\n",
        "print(clean_word_list)"
      ],
      "metadata": {
        "colab": {
          "base_uri": "https://localhost:8080/"
        },
        "id": "tcG3E9ufGZIF",
        "outputId": "f5b1060a-0580-434a-e142-6184a7545454"
      },
      "execution_count": 18,
      "outputs": [
        {
          "output_type": "stream",
          "name": "stdout",
          "text": [
            "\n",
            "Original string:\n",
            " \n",
            "The pretty women in the world is my mom.\n",
            "\n",
            "\n",
            "After removing stop words from the said text:\n",
            "['The', 'pretty', 'women', 'world', 'mom.']\n"
          ]
        },
        {
          "output_type": "stream",
          "name": "stderr",
          "text": [
            "[nltk_data] Downloading package stopwords to /root/nltk_data...\n",
            "[nltk_data]   Package stopwords is already up-to-date!\n"
          ]
        }
      ]
    }
  ]
}