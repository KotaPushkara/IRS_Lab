{
  "nbformat": 4,
  "nbformat_minor": 0,
  "metadata": {
    "colab": {
      "provenance": [],
      "authorship_tag": "ABX9TyOq9Xu86rwI2OKbZpMC5Ui6",
      "include_colab_link": true
    },
    "kernelspec": {
      "name": "python3",
      "display_name": "Python 3"
    },
    "language_info": {
      "name": "python"
    }
  },
  "cells": [
    {
      "cell_type": "markdown",
      "metadata": {
        "id": "view-in-github",
        "colab_type": "text"
      },
      "source": [
        "<a href=\"https://colab.research.google.com/github/KotaPushkara/IRS_Lab/blob/main/LAB_ASS_5.ipynb\" target=\"_parent\"><img src=\"https://colab.research.google.com/assets/colab-badge.svg\" alt=\"Open In Colab\"/></a>"
      ]
    },
    {
      "cell_type": "code",
      "execution_count": 1,
      "metadata": {
        "colab": {
          "base_uri": "https://localhost:8080/"
        },
        "id": "qFbMs1S9UMDZ",
        "outputId": "c3f55846-22c5-43ec-9daa-9c86c4e545e0"
      },
      "outputs": [
        {
          "output_type": "stream",
          "name": "stderr",
          "text": [
            "[nltk_data] Downloading package punkt to /root/nltk_data...\n",
            "[nltk_data]   Unzipping tokenizers/punkt.zip.\n",
            "[nltk_data] Downloading package wordnet to /root/nltk_data...\n",
            "[nltk_data] Downloading package stopwords to /root/nltk_data...\n",
            "[nltk_data]   Unzipping corpora/stopwords.zip.\n"
          ]
        },
        {
          "output_type": "execute_result",
          "data": {
            "text/plain": [
              "True"
            ]
          },
          "metadata": {},
          "execution_count": 1
        }
      ],
      "source": [
        "import nltk\n",
        "from nltk.stem import PorterStemmer, WordNetLemmatizer\n",
        "from nltk.tokenize import word_tokenize\n",
        "from nltk.corpus import wordnet, stopwords\n",
        "import re\n",
        "\n",
        "nltk.download('punkt')\n",
        "nltk.download('wordnet')\n",
        "nltk.download('stopwords')\n"
      ]
    },
    {
      "cell_type": "code",
      "source": [
        "def stem_word(word):\n",
        "    stemmer = PorterStemmer()\n",
        "    return stemmer.stem(word)"
      ],
      "metadata": {
        "id": "qk27TCY2Uoq1"
      },
      "execution_count": 2,
      "outputs": []
    },
    {
      "cell_type": "code",
      "source": [
        "def lemmatize_word(word):\n",
        "    lemmatizer = WordNetLemmatizer()\n",
        "    return lemmatizer.lemmatize(word)"
      ],
      "metadata": {
        "id": "89Dfg5g1Ut_d"
      },
      "execution_count": 3,
      "outputs": []
    },
    {
      "cell_type": "code",
      "source": [
        "def extract_prefix_suffix(word):\n",
        "    prefixes = [\"un\", \"re\", \"pre\", \"mis\", \"dis\", \"in\", \"im\", \"non\", \"over\", \"under\"]\n",
        "    suffixes = [\"ing\", \"ed\", \"er\", \"ly\", \"s\", \"es\", \"ment\", \"ness\", \"ful\", \"able\", \"less\"]\n",
        "\n",
        "    found_prefix = next((p for p in prefixes if word.startswith(p)), None)\n",
        "    found_suffix = next((s for s in suffixes if word.endswith(s)), None)\n",
        "\n",
        "    root = word\n",
        "    if found_prefix:\n",
        "        root = word[len(found_prefix):]\n",
        "    if found_suffix:\n",
        "        root = root[:-len(found_suffix)]\n",
        "\n",
        "    return found_prefix, root, found_suffix"
      ],
      "metadata": {
        "id": "tiMzKgkqU13p"
      },
      "execution_count": 4,
      "outputs": []
    },
    {
      "cell_type": "code",
      "source": [
        "def morphological_analysis(word):\n",
        "    stem = stem_word(word)\n",
        "    lemma = lemmatize_word(word)\n",
        "    prefix, root, suffix = extract_prefix_suffix(word)\n",
        "\n",
        "    return {\n",
        "        \"Original Word\": word,\n",
        "        \"Stemmed Root\": stem,\n",
        "        \"Lemmatized Root\": lemma,\n",
        "        \"Prefix\": prefix,\n",
        "        \"Extracted Root\": root,\n",
        "        \"Suffix\": suffix\n",
        "    }"
      ],
      "metadata": {
        "id": "XYhb5vPUU_HX"
      },
      "execution_count": 5,
      "outputs": []
    },
    {
      "cell_type": "code",
      "source": [
        "words = [\"unhappiness\", \"replaying\", \"mistreated\", \"jumping\", \"kindness\", \"running\"]\n",
        "for word in words:\n",
        "    print(morphological_analysis(word))"
      ],
      "metadata": {
        "colab": {
          "base_uri": "https://localhost:8080/"
        },
        "id": "4Aid9eHXVGBS",
        "outputId": "5e63f2c0-8e55-44cc-fb55-5c99828d0c0a"
      },
      "execution_count": 6,
      "outputs": [
        {
          "output_type": "stream",
          "name": "stdout",
          "text": [
            "{'Original Word': 'unhappiness', 'Stemmed Root': 'unhappi', 'Lemmatized Root': 'unhappiness', 'Prefix': 'un', 'Extracted Root': 'happines', 'Suffix': 's'}\n",
            "{'Original Word': 'replaying', 'Stemmed Root': 'replay', 'Lemmatized Root': 'replaying', 'Prefix': 're', 'Extracted Root': 'play', 'Suffix': 'ing'}\n",
            "{'Original Word': 'mistreated', 'Stemmed Root': 'mistreat', 'Lemmatized Root': 'mistreated', 'Prefix': 'mis', 'Extracted Root': 'treat', 'Suffix': 'ed'}\n",
            "{'Original Word': 'jumping', 'Stemmed Root': 'jump', 'Lemmatized Root': 'jumping', 'Prefix': None, 'Extracted Root': 'jump', 'Suffix': 'ing'}\n",
            "{'Original Word': 'kindness', 'Stemmed Root': 'kind', 'Lemmatized Root': 'kindness', 'Prefix': None, 'Extracted Root': 'kindnes', 'Suffix': 's'}\n",
            "{'Original Word': 'running', 'Stemmed Root': 'run', 'Lemmatized Root': 'running', 'Prefix': None, 'Extracted Root': 'runn', 'Suffix': 'ing'}\n"
          ]
        }
      ]
    },
    {
      "cell_type": "code",
      "source": [],
      "metadata": {
        "id": "InxOco0RVNDF"
      },
      "execution_count": null,
      "outputs": []
    }
  ]
}